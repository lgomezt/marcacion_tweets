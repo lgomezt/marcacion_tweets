{
 "cells": [
  {
   "cell_type": "code",
   "execution_count": 69,
   "metadata": {},
   "outputs": [],
   "source": [
    "# Vamos a compilar todos los csvs con los tweets y los vamos a meter a SQL si dios lo permite\n",
    "import os \n",
    "import pandas as pd\n",
    "import numpy as np\n",
    "import re"
   ]
  },
  {
   "cell_type": "code",
   "execution_count": 70,
   "metadata": {},
   "outputs": [
    {
     "ename": "NotADirectoryError",
     "evalue": "[WinError 267] The directory name is invalid: '../../../TorniquetesLight/Twitter/Data/Keywords/consolidado.gzip'",
     "output_type": "error",
     "traceback": [
      "\u001b[1;31m---------------------------------------------------------------------------\u001b[0m",
      "\u001b[1;31mNotADirectoryError\u001b[0m                        Traceback (most recent call last)",
      "\u001b[1;32m<ipython-input-70-ac03d05715e1>\u001b[0m in \u001b[0;36m<module>\u001b[1;34m\u001b[0m\n\u001b[0;32m      3\u001b[0m \u001b[0marchivos\u001b[0m \u001b[1;33m=\u001b[0m \u001b[0mdict\u001b[0m\u001b[1;33m(\u001b[0m\u001b[1;33m)\u001b[0m\u001b[1;33m\u001b[0m\u001b[1;33m\u001b[0m\u001b[0m\n\u001b[0;32m      4\u001b[0m \u001b[1;32mfor\u001b[0m \u001b[0mi\u001b[0m \u001b[1;32min\u001b[0m \u001b[0msemanas\u001b[0m\u001b[1;33m:\u001b[0m\u001b[1;33m\u001b[0m\u001b[1;33m\u001b[0m\u001b[0m\n\u001b[1;32m----> 5\u001b[1;33m     \u001b[0msubmuestra\u001b[0m \u001b[1;33m=\u001b[0m \u001b[0mos\u001b[0m\u001b[1;33m.\u001b[0m\u001b[0mlistdir\u001b[0m\u001b[1;33m(\u001b[0m\u001b[1;34m\"../../../TorniquetesLight/Twitter/Data/Keywords/\"\u001b[0m \u001b[1;33m+\u001b[0m \u001b[0mi\u001b[0m\u001b[1;33m)\u001b[0m\u001b[1;33m\u001b[0m\u001b[1;33m\u001b[0m\u001b[0m\n\u001b[0m\u001b[0;32m      6\u001b[0m     \u001b[1;31m# Sacamos todo lo que sea last_token\u001b[0m\u001b[1;33m\u001b[0m\u001b[1;33m\u001b[0m\u001b[0m\n\u001b[0;32m      7\u001b[0m     \u001b[0msubmuestra\u001b[0m \u001b[1;33m=\u001b[0m \u001b[1;33m[\u001b[0m\u001b[0mi\u001b[0m \u001b[1;32mfor\u001b[0m \u001b[0mi\u001b[0m \u001b[1;32min\u001b[0m \u001b[0msubmuestra\u001b[0m \u001b[1;32mif\u001b[0m \u001b[1;34m\"last_token\"\u001b[0m \u001b[1;32mnot\u001b[0m \u001b[1;32min\u001b[0m \u001b[0mi\u001b[0m\u001b[1;33m]\u001b[0m\u001b[1;33m\u001b[0m\u001b[1;33m\u001b[0m\u001b[0m\n",
      "\u001b[1;31mNotADirectoryError\u001b[0m: [WinError 267] The directory name is invalid: '../../../TorniquetesLight/Twitter/Data/Keywords/consolidado.gzip'"
     ]
    }
   ],
   "source": [
    "semanas = os.listdir(\"../../../TorniquetesLight/Twitter/Data/Keywords\")\n",
    "# Esto crea un diccionario con los archivos por carpeta\n",
    "archivos = dict()\n",
    "for i in semanas:\n",
    "    submuestra = os.listdir(\"../../../TorniquetesLight/Twitter/Data/Keywords/\" + i)\n",
    "    # Sacamos todo lo que sea last_token\n",
    "    submuestra = [i for i in submuestra if \"last_token\" not in i]\n",
    "    archivos[i] = submuestra"
   ]
  },
  {
   "cell_type": "code",
   "execution_count": null,
   "metadata": {},
   "outputs": [],
   "source": [
    "# Concatenamos todos los archivos en un dataframe\n",
    "tweets = pd.DataFrame()\n",
    "for carpeta in archivos.keys():\n",
    "    for archivo in archivos[carpeta]:\n",
    "        submuestra = pd.read_csv(\"../../../TorniquetesLight/Twitter/Data/Keywords/\" + \n",
    "            carpeta + \"/\" + archivo)\n",
    "        tweets = tweets.append(submuestra).reset_index(drop = True)"
   ]
  },
  {
   "cell_type": "code",
   "execution_count": null,
   "metadata": {},
   "outputs": [],
   "source": [
    "tweets.to_pickle(\"../../../TorniquetesLight/Twitter/Data/Keywords/consolidado.gzip\", \n",
    "    compression = \"gzip\")"
   ]
  },
  {
   "cell_type": "code",
   "execution_count": null,
   "metadata": {},
   "outputs": [],
   "source": [
    "random_sample = tweets.sample(n = 10000, random_state = 666)"
   ]
  },
  {
   "cell_type": "code",
   "execution_count": null,
   "metadata": {},
   "outputs": [],
   "source": [
    "del tweets"
   ]
  },
  {
   "cell_type": "code",
   "execution_count": null,
   "metadata": {},
   "outputs": [],
   "source": [
    "random_sample = random_sample.drop_duplicates().reset_index(drop = True)"
   ]
  },
  {
   "cell_type": "code",
   "execution_count": null,
   "metadata": {},
   "outputs": [],
   "source": [
    "random_sample = random_sample[[\"ID\", \"Text\"]]\n",
    "random_sample.Text = random_sample.Text.apply(lambda x: re.sub(\"RT @.+: \", \"\", x))\n",
    "random_sample = random_sample.drop_duplicates(\"Text\").reset_index(drop = True)"
   ]
  },
  {
   "cell_type": "code",
   "execution_count": null,
   "metadata": {},
   "outputs": [],
   "source": [
    "random_sample.to_pickle(\"../../../TorniquetesLight/Twitter/Data/Keywords/random_sample.gzip\", \n",
    "    compression = \"gzip\")"
   ]
  }
 ],
 "metadata": {
  "interpreter": {
   "hash": "af52dcf216f2cb390e503a7fd61218ee38e9f2a9bb96ee8673f5cf7b8361856b"
  },
  "kernelspec": {
   "display_name": "Python 3.9.7 64-bit ('semillero_redes': conda)",
   "language": "python",
   "name": "python3"
  },
  "language_info": {
   "codemirror_mode": {
    "name": "ipython",
    "version": 3
   },
   "file_extension": ".py",
   "mimetype": "text/x-python",
   "name": "python",
   "nbconvert_exporter": "python",
   "pygments_lexer": "ipython3",
   "version": "3.9.7"
  },
  "orig_nbformat": 4
 },
 "nbformat": 4,
 "nbformat_minor": 2
}
