{
 "cells": [
  {
   "cell_type": "code",
   "execution_count": 3,
   "source": [
    "import dash\r\n",
    "import dash_bootstrap_components as dbc\r\n",
    "from dash import dcc\r\n",
    "from dash import html\r\n",
    "from dash.dependencies import Input, Output\r\n",
    "from IPython.core.debugger import set_trace\r\n",
    "\r\n",
    "import pandas as pd\r\n",
    "import re\r\n",
    "import random\r\n",
    "from datetime import datetime\r\n",
    "import psycopg2\r\n",
    "from configparser import ConfigParser\r\n",
    "import getpass\r\n",
    "import socket"
   ],
   "outputs": [
    {
     "output_type": "stream",
     "name": "stderr",
     "text": [
      "C:\\Users\\User\\anaconda3\\envs\\semillero_redes\\lib\\site-packages\\dash_bootstrap_components\\_table.py:5: UserWarning: \n",
      "The dash_html_components package is deprecated. Please replace\n",
      "`import dash_html_components as html` with `from dash import html`\n",
      "  import dash_html_components as html\n"
     ]
    }
   ],
   "metadata": {}
  },
  {
   "cell_type": "code",
   "execution_count": 4,
   "source": [
    "# Por seguridad no queremos que las credenciales de nuestra base estén directamente escritas \r\n",
    "# en el script. Del mismo modo, quisieramos que si cambiamos de servidores, no sea necesario\r\n",
    "# modificar el código. Por tal motivo creamos una función para leer un archivo que estará \r\n",
    "# alojado localmente en el pc de cada investigador con la información de acceso al servidor.\r\n",
    "\r\n",
    "def config(filename = 'database.ini', section = 'postgresql'):\r\n",
    "    \"\"\" Función para cargar nuestras credenciales para acceder a nuestra base de datos\"\"\"\r\n",
    "    # Abrimos el archivo especificado en el parámetro filename\r\n",
    "    parser = ConfigParser()\r\n",
    "    parser.read(filename)\r\n",
    "\r\n",
    "    # Creamos un diccionario a partir de la sección escogida en el parámetro section\r\n",
    "    db = {}\r\n",
    "    if parser.has_section(section):\r\n",
    "        params = parser.items(section)\r\n",
    "        for param in params:\r\n",
    "            db[param[0]] = param[1]\r\n",
    "    else:\r\n",
    "        raise Exception('Section {0} not found in the {1} file'.format(section, filename))\r\n",
    "\r\n",
    "    return db"
   ],
   "outputs": [],
   "metadata": {}
  },
  {
   "cell_type": "code",
   "execution_count": 4,
   "source": [
    "# Importamos los tweets\r\n",
    "query = \"SELECT * FROM public.tweet;\"\r\n",
    "credenciales = config()\r\n",
    "conexion = psycopg2.connect(**credenciales)\r\n",
    "tweets = pd.read_sql_query(sql = query, con = conexion)"
   ],
   "outputs": [],
   "metadata": {}
  },
  {
   "cell_type": "code",
   "execution_count": 6,
   "source": [
    "# Nos quedamos solo con las columnas necesarias\r\n",
    "tweets = tweets[[\"id\", \"tweet_text\"]]\r\n",
    "# Usamos expresiones regulares para quitar los textos de los retweets\r\n",
    "tweets[\"tweet_text\"] = tweets[\"tweet_text\"].apply(lambda x: re.sub(\"RT @.+: \", \"\", x))\r\n",
    "# Eliminamos tweets duplicados\r\n",
    "tweets = tweets.drop_duplicates(\"tweet_text\").reset_index(drop = True)"
   ],
   "outputs": [],
   "metadata": {}
  },
  {
   "cell_type": "code",
   "execution_count": 5,
   "source": [
    "# tweets.to_csv(r\"C:\\Users\\User\\Downloads\\tweets.csv\", index = False)\r\n",
    "tweets = pd.read_csv(r\"C:\\Users\\User\\Downloads\\tweets.csv\")"
   ],
   "outputs": [],
   "metadata": {}
  },
  {
   "cell_type": "code",
   "execution_count": 6,
   "source": [
    "# Escogemos mostrar un Tweet al azar\r\n",
    "fila = random.randint(0, tweets.shape[0])\r\n",
    "tweet = tweets.iloc[fila].tweet_text\r\n",
    "print(tweet)"
   ],
   "outputs": [
    {
     "output_type": "stream",
     "name": "stdout",
     "text": [
      "#VandalosAsesinos hablo 4 idiomas pero no entiendo un carajo de que pasa con los k pop y está tendencia https://t.co/AYp50dvkbd\n"
     ]
    }
   ],
   "metadata": {}
  },
  {
   "cell_type": "code",
   "execution_count": 91,
   "source": [
    "app = dash.Dash(__name__, external_stylesheets = [dbc.themes.CYBORG])\r\n",
    "server = app.server\r\n",
    "\r\n",
    "# Elementos layout\r\n",
    "\r\n",
    "navbar = dbc.Navbar([\r\n",
    "    html.A(\r\n",
    "        dbc.Row([\r\n",
    "            dbc.Col(html.Img(src = \"http://assets.stickpng.com/images/580b57fcd9996e24bc43c53e.png\", height = \"30px\")),\r\n",
    "            dbc.Col(dbc.NavbarBrand(\"Clasificador de tweets\"))\r\n",
    "        ]),\r\n",
    "        href = \"https://sites.google.com/site/tomasrodriguezbarraquer/\"\r\n",
    "        )\r\n",
    "    ],\r\n",
    "    color = \"dark\",\r\n",
    "    dark = True,\r\n",
    ")\r\n",
    "\r\n",
    "texto = html.Div([\r\n",
    "    dbc.Row([\r\n",
    "        dbc.Col(html.H3(id = \"texto_tweet\", style = {'textAlign': 'center'}))\r\n",
    "        ], justify = \"center\", align = \"center\"),\r\n",
    "], style = {'padding': '10px 60px 30px'})\r\n",
    "\r\n",
    "mensaje = \"De las opciones presentadas a continuación, seleccione la que crea que describe mejor el mensaje presentado.\"\r\n",
    "instrucciones = html.Div([\r\n",
    "    html.H5(mensaje, style = {'textAlign': 'justify'})\r\n",
    "    ], style = {'padding': '10px 60px 10px'})\r\n",
    "\r\n",
    "botones = html.Div([\r\n",
    "    dbc.Row([\r\n",
    "        dbc.Col(dbc.Button('Izquierda', id = 'izquierda', color = \"primary\", block = True)),\r\n",
    "        dbc.Col(dbc.Button('Centro', id = 'centro', color = \"primary\", block = True)),\r\n",
    "        dbc.Col(dbc.Button('Derecha', id = 'derecha', color = \"primary\", block = True)),\r\n",
    "        dbc.Col(dbc.Button('No tengo idea', id = 'no_idea', color = \"primary\", block = True)),\r\n",
    "        dbc.Col(dbc.Button('No aplica', id = 'no_aplica', color = \"primary\", block = True))\r\n",
    "        ])\r\n",
    "], style = {'padding': '10px 60px 10px'})\r\n",
    "\r\n",
    "# Definimos layout\r\n",
    "app.layout = html.Div(children = [navbar, texto, instrucciones, botones, dcc.Store(id = 'Resultados')])\r\n",
    "\r\n",
    "# Callbacks\r\n",
    "\r\n",
    "# Función para identificar la IP del usuario\r\n",
    "def get_ip():\r\n",
    "    s = socket.socket(socket.AF_INET, socket.SOCK_DGRAM)\r\n",
    "    try:\r\n",
    "        # doesn't even have to be reachable\r\n",
    "        s.connect(('10.255.255.255', 1))\r\n",
    "        IP = s.getsockname()[0]\r\n",
    "    except Exception:\r\n",
    "        IP = '127.0.0.1'\r\n",
    "    finally:\r\n",
    "        s.close()\r\n",
    "    return IP\r\n",
    "\r\n",
    "# Cambiar de texto cuando se presione algún botón y guardar resultados.\r\n",
    "@app.callback(Output('texto_tweet', 'children'),\r\n",
    "              Output('Resultados', 'data'),\r\n",
    "              Input('izquierda', 'n_clicks'),\r\n",
    "              Input('centro', 'n_clicks'),\r\n",
    "              Input('derecha', 'n_clicks'),\r\n",
    "              Input('no_idea', 'n_clicks'),\r\n",
    "              Input('no_aplica', 'n_clicks'),\r\n",
    "              Input('Resultados', 'data'),\r\n",
    "              )\r\n",
    "def cambiar_texto(izq, cen, der, no_idea, no_aplica, resultados):\r\n",
    "    if (izq is None) & (cen is None) & (der is None) & (no_idea is None) & (no_aplica is None):\r\n",
    "        fila = random.randint(0, tweets.shape[0])\r\n",
    "        tweet = tweets.iloc[fila].tweet_text\r\n",
    "        resultados = pd.DataFrame()\r\n",
    "        return(tweet, resultados.to_json(orient = 'split'))\r\n",
    "    \r\n",
    "    changed_id = [p['prop_id'] for p in dash.callback_context.triggered][0]\r\n",
    "    if 'izquierda' in changed_id:\r\n",
    "        valor = -1\r\n",
    "    elif 'centro' in changed_id:\r\n",
    "        valor = 0\r\n",
    "    elif 'derecha' in changed_id:\r\n",
    "        valor = 1\r\n",
    "    elif 'no_idea' in changed_id:\r\n",
    "        valor = \"no_idea\"\r\n",
    "    elif 'no_aplica' in changed_id:\r\n",
    "        valor = \"no_aplica\"\r\n",
    "\r\n",
    "    fila = random.randint(0, tweets.shape[0])\r\n",
    "    tweet = tweets.iloc[fila].tweet_text\r\n",
    "\r\n",
    "    if resultados is None:\r\n",
    "        resultados = pd.DataFrame()\r\n",
    "    else:\r\n",
    "        resultados = pd.read_json(resultados, orient = 'split')\r\n",
    "\r\n",
    "    resultado = pd.DataFrame({\r\n",
    "        \"usuario1\": get_ip(),\r\n",
    "        \"usuario2\": getpass.getuser(), \r\n",
    "        \"id_tweet\": tweets.iloc[fila].id,\r\n",
    "        \"marca\": valor,\r\n",
    "        \"fecha\": datetime.now()\r\n",
    "        }, index = [0])\r\n",
    "\r\n",
    "    resultados = pd.concat([resultados, resultado], axis = 0).reset_index(drop = True)\r\n",
    "\r\n",
    "    return(tweet, resultados.to_json(orient = 'split'))\r\n",
    "\r\n",
    "if __name__ == \"__main__\":\r\n",
    "    app.run_server()"
   ],
   "outputs": [
    {
     "output_type": "stream",
     "name": "stdout",
     "text": [
      "Dash is running on http://127.0.0.1:8050/\n",
      "\n",
      "Dash is running on http://127.0.0.1:8050/\n",
      "\n",
      "Dash is running on http://127.0.0.1:8050/\n",
      "\n",
      "Dash is running on http://127.0.0.1:8050/\n",
      "\n",
      "Dash is running on http://127.0.0.1:8050/\n",
      "\n",
      "Dash is running on http://127.0.0.1:8050/\n",
      "\n",
      "Dash is running on http://127.0.0.1:8050/\n",
      "\n",
      "Dash is running on http://127.0.0.1:8050/\n",
      "\n",
      "Dash is running on http://127.0.0.1:8050/\n",
      "\n",
      "Dash is running on http://127.0.0.1:8050/\n",
      "\n",
      "Dash is running on http://127.0.0.1:8050/\n",
      "\n",
      "Dash is running on http://127.0.0.1:8050/\n",
      "\n",
      "Dash is running on http://127.0.0.1:8050/\n",
      "\n",
      "Dash is running on http://127.0.0.1:8050/\n",
      "\n",
      "Dash is running on http://127.0.0.1:8050/\n",
      "\n",
      "Dash is running on http://127.0.0.1:8050/\n",
      "\n",
      "Dash is running on http://127.0.0.1:8050/\n",
      "\n",
      "Dash is running on http://127.0.0.1:8050/\n",
      "\n",
      "Dash is running on http://127.0.0.1:8050/\n",
      "\n",
      " * Serving Flask app '__main__' (lazy loading)\n",
      " * Environment: production\n",
      "\u001b[31m   WARNING: This is a development server. Do not use it in a production deployment.\u001b[0m\n",
      "\u001b[2m   Use a production WSGI server instead.\u001b[0m\n",
      " * Debug mode: off\n"
     ]
    },
    {
     "output_type": "stream",
     "name": "stderr",
     "text": [
      " * Running on http://127.0.0.1:8050/ (Press CTRL+C to quit)\n",
      "127.0.0.1 - - [06/Oct/2021 16:15:28] \"GET / HTTP/1.1\" 200 -\n",
      "127.0.0.1 - - [06/Oct/2021 16:15:28] \"GET /_favicon.ico?v=2.0.0 HTTP/1.1\" 200 -\n",
      "127.0.0.1 - - [06/Oct/2021 16:15:28] \"GET /_dash-layout HTTP/1.1\" 200 -\n",
      "127.0.0.1 - - [06/Oct/2021 16:15:28] \"GET /_dash-dependencies HTTP/1.1\" 200 -\n",
      "127.0.0.1 - - [06/Oct/2021 16:15:28] \"GET /_favicon.ico?v=2.0.0 HTTP/1.1\" 200 -\n",
      "127.0.0.1 - - [06/Oct/2021 16:15:28] \"POST /_dash-update-component HTTP/1.1\" 200 -\n",
      "127.0.0.1 - - [06/Oct/2021 16:15:37] \"POST /_dash-update-component HTTP/1.1\" 200 -\n"
     ]
    }
   ],
   "metadata": {}
  },
  {
   "cell_type": "code",
   "execution_count": null,
   "source": [],
   "outputs": [],
   "metadata": {}
  }
 ],
 "metadata": {
  "orig_nbformat": 4,
  "language_info": {
   "name": "python",
   "version": "3.9.7",
   "mimetype": "text/x-python",
   "codemirror_mode": {
    "name": "ipython",
    "version": 3
   },
   "pygments_lexer": "ipython3",
   "nbconvert_exporter": "python",
   "file_extension": ".py"
  },
  "kernelspec": {
   "name": "python3",
   "display_name": "Python 3.9.7 64-bit ('semillero_redes': conda)"
  },
  "interpreter": {
   "hash": "af52dcf216f2cb390e503a7fd61218ee38e9f2a9bb96ee8673f5cf7b8361856b"
  }
 },
 "nbformat": 4,
 "nbformat_minor": 2
}