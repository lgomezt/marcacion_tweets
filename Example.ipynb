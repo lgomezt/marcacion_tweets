{
 "cells": [
  {
   "cell_type": "code",
   "execution_count": 1,
   "metadata": {},
   "outputs": [
    {
     "name": "stderr",
     "output_type": "stream",
     "text": [
      "C:\\Users\\User\\anaconda3\\envs\\semillero_redes\\lib\\site-packages\\dash_bootstrap_components\\_table.py:5: UserWarning: \n",
      "The dash_html_components package is deprecated. Please replace\n",
      "`import dash_html_components as html` with `from dash import html`\n",
      "  import dash_html_components as html\n"
     ]
    }
   ],
   "source": [
    "import dash\n",
    "import dash_bootstrap_components as dbc\n",
    "from dash import dcc\n",
    "from dash import html\n",
    "from dash.dependencies import Input, Output\n",
    "from IPython.core.debugger import set_trace\n",
    "\n",
    "import pandas as pd\n",
    "import re\n",
    "import random\n",
    "from datetime import datetime\n",
    "import psycopg2\n",
    "from configparser import ConfigParser\n",
    "import getpass\n",
    "import socket"
   ]
  },
  {
   "cell_type": "code",
   "execution_count": 2,
   "metadata": {},
   "outputs": [],
   "source": [
    "# Por seguridad no queremos que las credenciales de nuestra base estén directamente escritas \n",
    "# en el script. Del mismo modo, quisieramos que si cambiamos de servidores, no sea necesario\n",
    "# modificar el código. Por tal motivo creamos una función para leer un archivo que estará \n",
    "# alojado localmente en el pc de cada investigador con la información de acceso al servidor.\n",
    "\n",
    "def config(filename = 'database.ini', section = 'postgresql'):\n",
    "    \"\"\" Función para cargar nuestras credenciales para acceder a nuestra base de datos\"\"\"\n",
    "    # Abrimos el archivo especificado en el parámetro filename\n",
    "    parser = ConfigParser()\n",
    "    parser.read(filename)\n",
    "\n",
    "    # Creamos un diccionario a partir de la sección escogida en el parámetro section\n",
    "    db = {}\n",
    "    if parser.has_section(section):\n",
    "        params = parser.items(section)\n",
    "        for param in params:\n",
    "            db[param[0]] = param[1]\n",
    "    else:\n",
    "        raise Exception('Section {0} not found in the {1} file'.format(section, filename))\n",
    "\n",
    "    return db"
   ]
  },
  {
   "cell_type": "code",
   "execution_count": 3,
   "metadata": {},
   "outputs": [],
   "source": [
    "# Importamos los tweets\n",
    "query = \"SELECT id, tweet_text FROM public.tweet LIMIT 100;\"\n",
    "credenciales = config(filename = 'database.ini', section = 'postgresql')\n",
    "conexion = psycopg2.connect(**credenciales)\n",
    "tweets = pd.read_sql_query(sql = query, con = conexion)"
   ]
  },
  {
   "cell_type": "code",
   "execution_count": 4,
   "metadata": {},
   "outputs": [],
   "source": [
    "# Nos quedamos solo con las columnas necesarias\n",
    "tweets = tweets[[\"id\", \"tweet_text\"]]\n",
    "# Usamos expresiones regulares para quitar los textos de los retweets\n",
    "tweets[\"tweet_text\"] = tweets[\"tweet_text\"].apply(lambda x: re.sub(\"RT @.+: \", \"\", x))\n",
    "# Eliminamos tweets duplicados\n",
    "tweets = tweets.drop_duplicates(\"tweet_text\").reset_index(drop = True)"
   ]
  },
  {
   "cell_type": "code",
   "execution_count": 5,
   "metadata": {},
   "outputs": [],
   "source": [
    "# tweets.to_csv(r\"C:\\Users\\User\\Downloads\\tweets.csv\", index = False)\n",
    "# tweets = pd.read_csv(r\"C:\\Users\\User\\Downloads\\tweets.csv\")"
   ]
  },
  {
   "cell_type": "code",
   "execution_count": 6,
   "metadata": {},
   "outputs": [
    {
     "name": "stdout",
     "output_type": "stream",
     "text": [
      "romper relaciones diplomáticas con patrocinadores del…\n"
     ]
    }
   ],
   "source": [
    "# Escogemos mostrar un Tweet al azar\n",
    "fila = random.randint(0, tweets.shape[0])\n",
    "tweet = tweets.iloc[fila].tweet_text\n",
    "print(tweet)"
   ]
  },
  {
   "cell_type": "code",
   "execution_count": 7,
   "metadata": {},
   "outputs": [
    {
     "name": "stdout",
     "output_type": "stream",
     "text": [
      "Dash is running on http://127.0.0.1:8050/\n",
      "\n",
      " * Serving Flask app '__main__' (lazy loading)\n",
      " * Environment: production\n",
      "\u001b[31m   WARNING: This is a development server. Do not use it in a production deployment.\u001b[0m\n",
      "\u001b[2m   Use a production WSGI server instead.\u001b[0m\n",
      " * Debug mode: off\n"
     ]
    },
    {
     "name": "stderr",
     "output_type": "stream",
     "text": [
      " * Running on http://127.0.0.1:8050/ (Press CTRL+C to quit)\n",
      "127.0.0.1 - - [11/Oct/2021 16:11:53] \"GET / HTTP/1.1\" 200 -\n",
      "127.0.0.1 - - [11/Oct/2021 16:11:54] \"GET /_favicon.ico?v=2.0.0 HTTP/1.1\" 200 -\n",
      "127.0.0.1 - - [11/Oct/2021 16:11:54] \"GET /_dash-layout HTTP/1.1\" 200 -\n",
      "127.0.0.1 - - [11/Oct/2021 16:11:54] \"GET /_dash-dependencies HTTP/1.1\" 200 -\n",
      "127.0.0.1 - - [11/Oct/2021 16:11:54] \"GET /_favicon.ico?v=2.0.0 HTTP/1.1\" 200 -\n",
      "127.0.0.1 - - [11/Oct/2021 16:11:54] \"POST /_dash-update-component HTTP/1.1\" 200 -\n",
      "127.0.0.1 - - [11/Oct/2021 16:12:10] \"POST /_dash-update-component HTTP/1.1\" 200 -\n",
      "127.0.0.1 - - [11/Oct/2021 16:12:23] \"GET / HTTP/1.1\" 200 -\n",
      "127.0.0.1 - - [11/Oct/2021 16:12:23] \"GET /_favicon.ico?v=2.0.0 HTTP/1.1\" 200 -\n",
      "127.0.0.1 - - [11/Oct/2021 16:12:23] \"GET /_dash-layout HTTP/1.1\" 200 -\n",
      "127.0.0.1 - - [11/Oct/2021 16:12:23] \"GET /_dash-dependencies HTTP/1.1\" 200 -\n",
      "127.0.0.1 - - [11/Oct/2021 16:12:23] \"GET /_favicon.ico?v=2.0.0 HTTP/1.1\" 200 -\n",
      "127.0.0.1 - - [11/Oct/2021 16:12:23] \"POST /_dash-update-component HTTP/1.1\" 200 -\n",
      "127.0.0.1 - - [11/Oct/2021 16:12:33] \"POST /_dash-update-component HTTP/1.1\" 200 -\n"
     ]
    },
    {
     "name": "stdout",
     "output_type": "stream",
     "text": [
      "1 Se ingresó la fila ('192.168.0.13', 'User', '1412924256678187008', '1', '2021-10-11 16:12:32.578512')\n"
     ]
    },
    {
     "name": "stderr",
     "output_type": "stream",
     "text": [
      "127.0.0.1 - - [11/Oct/2021 16:12:42] \"POST /_dash-update-component HTTP/1.1\" 200 -\n"
     ]
    },
    {
     "name": "stdout",
     "output_type": "stream",
     "text": [
      "1 Se ingresó la fila ('192.168.0.13', 'User', '1412924175770169355', '1', '2021-10-11 16:12:41.520630')\n"
     ]
    },
    {
     "name": "stderr",
     "output_type": "stream",
     "text": [
      "127.0.0.1 - - [11/Oct/2021 16:12:47] \"POST /_dash-update-component HTTP/1.1\" 200 -\n"
     ]
    },
    {
     "name": "stdout",
     "output_type": "stream",
     "text": [
      "1 Se ingresó la fila ('192.168.0.13', 'User', '1412924102780887044', 'no_idea', '2021-10-11 16:12:46.750049')\n"
     ]
    }
   ],
   "source": [
    "app = dash.Dash(__name__, external_stylesheets = [dbc.themes.CYBORG])\n",
    "server = app.server\n",
    "\n",
    "# Elementos layout\n",
    "navbar = dbc.Navbar([\n",
    "    html.A(\n",
    "        dbc.Row([\n",
    "            dbc.Col(html.Img(src = \"http://assets.stickpng.com/images/580b57fcd9996e24bc43c53e.png\", height = \"30px\")),\n",
    "            dbc.Col(dbc.NavbarBrand(\"Clasificador de tweets\"))\n",
    "        ]),\n",
    "        href = \"https://sites.google.com/site/tomasrodriguezbarraquer/\"\n",
    "        )\n",
    "    ],\n",
    "    color = \"dark\",\n",
    "    dark = True,\n",
    ")\n",
    "\n",
    "texto = html.Div([\n",
    "    dbc.Row([\n",
    "        dbc.Col(html.H3(id = \"texto_tweet\", style = {'textAlign': 'center'}))\n",
    "        ], justify = \"center\", align = \"center\"),\n",
    "    dbc.Row([\n",
    "        dbc.Col(\n",
    "            dcc.Input(\n",
    "                id = \"correo\",\n",
    "                type = \"email\",\n",
    "                placeholder = \"¿Cuál es tu correo?\",)\n",
    "        )\n",
    "    ])\n",
    "], style = {'padding': '10px 60px 30px'})\n",
    "\n",
    "mensaje = \"De las opciones presentadas a continuación, seleccione la que crea que describe mejor el mensaje presentado.\"\n",
    "instrucciones = html.Div([\n",
    "    html.H5(mensaje, style = {'textAlign': 'justify'}),\n",
    "    # Guardamos el índice de la fila, pero no lo mostramos\n",
    "    html.Div(id = 'fila', style= {'display': 'None'})\n",
    "    ], style = {'padding': '10px 60px 10px'})\n",
    "\n",
    "botones = html.Div([\n",
    "    dbc.Row([\n",
    "        dbc.Col(dbc.Button('Izquierda', id = 'izquierda', color = \"primary\", block = True)),\n",
    "        dbc.Col(dbc.Button('Centro', id = 'centro', color = \"primary\", block = True)),\n",
    "        dbc.Col(dbc.Button('Derecha', id = 'derecha', color = \"primary\", block = True)),\n",
    "        dbc.Col(dbc.Button('No tengo idea', id = 'no_idea', color = \"primary\", block = True)),\n",
    "        dbc.Col(dbc.Button('No aplica', id = 'no_aplica', color = \"primary\", block = True))\n",
    "        ])\n",
    "], style = {'padding': '10px 60px 10px'})\n",
    "\n",
    "# Definimos layout\n",
    "app.layout = html.Div(children = [navbar, texto, instrucciones, botones])\n",
    "\n",
    "# Callbacks\n",
    "\n",
    "# Función para identificar la IP del usuario\n",
    "def get_ip():\n",
    "    s = socket.socket(socket.AF_INET, socket.SOCK_DGRAM)\n",
    "    try:\n",
    "        # doesn't even have to be reachable\n",
    "        s.connect(('10.255.255.255', 1))\n",
    "        IP = s.getsockname()[0]\n",
    "    except Exception:\n",
    "        IP = '127.0.0.1'\n",
    "    finally:\n",
    "        s.close()\n",
    "    return IP\n",
    "\n",
    "# Función para subir resultados a nuestra base message en postgres\n",
    "def guardar_resultado(fila):\n",
    "    \"\"\"\n",
    "    Usamos esta función para cargar la votación del usuario en la base de datos message.\n",
    "    El parámetro fila debe ser una tupla que contenga 5 valores que hacen alusión a las variables\n",
    "    usuario1, usuario2, id_tweet, marca y fecha.\n",
    "    \"\"\"\n",
    "    try:\n",
    "        # Cargamos los resultados en la base message\n",
    "        credenciales = config(filename = 'database.ini', section = 'postgresql')\n",
    "        conexion = psycopg2.connect(**credenciales)\n",
    "        # Creamos un cursor para editar la base\n",
    "        cursor = conexion.cursor()\n",
    "\n",
    "        # Insertamos una fila\n",
    "        query = \"\"\"INSERT INTO message (usuario1, usuario2, correo, id_tweet, marca, fecha) VALUES (%s, %s, %s, %s, %s, %s);\"\"\"\n",
    "        cursor.execute(query, fila)\n",
    "        conexion.commit()\n",
    "        \n",
    "        count = cursor.rowcount\n",
    "        print(count, \"Se ingresó la fila\", fila)\n",
    "\n",
    "        if conexion:\n",
    "            cursor.close()\n",
    "            conexion.close()\n",
    "\n",
    "    except (Exception, psycopg2.Error) as error:\n",
    "        print(\"No se pudo ingresar la fila\", error)\n",
    "\n",
    "# Cambiar de texto cuando se presione algún botón y guardar resultados.\n",
    "@app.callback(Output('texto_tweet', 'children'),\n",
    "              Output('fila', 'children'),\n",
    "              Input('izquierda', 'n_clicks'),\n",
    "              Input('centro', 'n_clicks'),\n",
    "              Input('derecha', 'n_clicks'),\n",
    "              Input('no_idea', 'n_clicks'),\n",
    "              Input('no_aplica', 'n_clicks'),\n",
    "              Input('correo', \"value\"),\n",
    "              Input('fila', 'children'),\n",
    "              )\n",
    "def cambiar_texto(izq, cen, der, no_idea, no_aplica, correo, fila):\n",
    "    # Cuando inicia la app se escoge un texto al azar\n",
    "    if (izq is None) & (cen is None) & (der is None) & (no_idea is None) & (no_aplica is None):\n",
    "        fila = random.randint(0, tweets.shape[0])\n",
    "        tweet = tweets.iloc[fila].tweet_text\n",
    "        return(tweet, fila)\n",
    "    \n",
    "    # Se guarda la clasificación del usuario\n",
    "    changed_id = [p['prop_id'] for p in dash.callback_context.triggered][0]\n",
    "    if 'izquierda' in changed_id:\n",
    "        valor = -1\n",
    "    elif 'centro' in changed_id:\n",
    "        valor = 0\n",
    "    elif 'derecha' in changed_id:\n",
    "        valor = 1\n",
    "    elif 'no_idea' in changed_id:\n",
    "        valor = \"no_idea\"\n",
    "    elif 'no_aplica' in changed_id:\n",
    "        valor = \"no_aplica\"\n",
    "\n",
    "    # Guardamos los resultados en una tupla \n",
    "    usuario1 = get_ip()\n",
    "    usuario2 = getpass.getuser()\n",
    "    id_tweet = str(tweets.iloc[fila].id)\n",
    "    marca = str(valor)\n",
    "    fecha = str(datetime.now())\n",
    "    correo = str(correo)\n",
    "    resultado = (usuario1, usuario2, correo, id_tweet, marca, fecha)\n",
    "    \n",
    "    # Subir resultados a nuestra base message en postgres \n",
    "    guardar_resultado(resultado)\n",
    "\n",
    "    # Cambiamos el texto\n",
    "    fila = random.randint(0, tweets.shape[0])\n",
    "    tweet = tweets.iloc[fila].tweet_text\n",
    "\n",
    "    return(tweet, fila)\n",
    "\n",
    "if __name__ == \"__main__\":\n",
    "    app.run_server()"
   ]
  },
  {
   "cell_type": "code",
   "execution_count": null,
   "metadata": {},
   "outputs": [],
   "source": []
  }
 ],
 "metadata": {
  "interpreter": {
   "hash": "af52dcf216f2cb390e503a7fd61218ee38e9f2a9bb96ee8673f5cf7b8361856b"
  },
  "kernelspec": {
   "display_name": "Python 3.9.7 64-bit ('semillero_redes': conda)",
   "name": "python3"
  },
  "language_info": {
   "codemirror_mode": {
    "name": "ipython",
    "version": 3
   },
   "file_extension": ".py",
   "mimetype": "text/x-python",
   "name": "python",
   "nbconvert_exporter": "python",
   "pygments_lexer": "ipython3",
   "version": "3.9.7"
  },
  "orig_nbformat": 4
 },
 "nbformat": 4,
 "nbformat_minor": 2
}
