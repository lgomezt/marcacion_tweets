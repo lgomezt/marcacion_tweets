{
 "cells": [
  {
   "cell_type": "code",
   "execution_count": 30,
   "source": [
    "import dash\r\n",
    "import dash_bootstrap_components as dbc\r\n",
    "from dash import dcc\r\n",
    "from dash import html\r\n",
    "from dash.dependencies import Input, Output\r\n",
    "from IPython.core.debugger import set_trace\r\n",
    "\r\n",
    "import os\r\n",
    "import pandas as pd\r\n",
    "import re\r\n",
    "import random\r\n",
    "from datetime import datetime"
   ],
   "outputs": [],
   "metadata": {}
  },
  {
   "cell_type": "code",
   "execution_count": 31,
   "source": [
    "path_data = os.getcwd().replace(\"App\", \"Data\") + \"\\\\\"\r\n",
    "os.listdir(path_data)"
   ],
   "outputs": [
    {
     "output_type": "execute_result",
     "data": {
      "text/plain": [
       "['all_tweets.csv']"
      ]
     },
     "metadata": {},
     "execution_count": 31
    }
   ],
   "metadata": {}
  },
  {
   "cell_type": "code",
   "execution_count": 32,
   "source": [
    "# Importamos los tweets\r\n",
    "tweets = pd.read_csv(path_data + \"all_tweets.csv\")\r\n",
    "# Nota: En el preprocesamiento de estos tweets se están borrando las comas.\r\n",
    "# Nos quedamos con las columnas importantes\r\n",
    "tweets = tweets[[\"ID\", \"Text\"]]\r\n",
    "# Usamos expresiones regulares para quitar los textos de los retweets\r\n",
    "tweets[\"Text\"] = tweets[\"Text\"].apply(lambda x: re.sub(\"RT @.+: \", \"\", x))\r\n",
    "# Eliminamos tweets duplicados\r\n",
    "tweets = tweets.drop_duplicates(\"Text\").reset_index(drop = True)"
   ],
   "outputs": [],
   "metadata": {}
  },
  {
   "cell_type": "code",
   "execution_count": 33,
   "source": [
    "# Escogemos mostrar un Tweet al azar\r\n",
    "fila = random.randint(0, tweets.shape[0])\r\n",
    "tweet = tweets.iloc[fila].Text\r\n",
    "print(tweet)"
   ],
   "outputs": [
    {
     "output_type": "stream",
     "name": "stdout",
     "text": [
      "Nos resistimos a seguir presenciando actos que terminen con más vidas de civiles y uniformados. Los firmantes aquí qu…\n"
     ]
    }
   ],
   "metadata": {}
  },
  {
   "cell_type": "code",
   "execution_count": 34,
   "source": [
    "app = dash.Dash(__name__, external_stylesheets = [dbc.themes.CYBORG])\r\n",
    "server = app.server\r\n",
    "\r\n",
    "navbar = dbc.Navbar([\r\n",
    "    html.A(\r\n",
    "        dbc.Row(dbc.Col(dbc.NavbarBrand(\"Título de la app\"))),\r\n",
    "        href = \"https://sites.google.com/site/tomasrodriguezbarraquer/\"\r\n",
    "        )\r\n",
    "    ],\r\n",
    "    color = \"dark\",\r\n",
    "    dark = True,\r\n",
    ")\r\n",
    "    \r\n",
    "texto = html.Div([\r\n",
    "    dbc.Row([\r\n",
    "        dbc.Col(html.H3(id = \"texto_tweet\", style = {'textAlign': 'justify'}))\r\n",
    "        ], justify = \"center\", align = \"center\")\r\n",
    "], style = {'padding': '50px 50px 50px 10px'})\r\n",
    "\r\n",
    "botones = html.Div([\r\n",
    "    dbc.Row([\r\n",
    "        dbc.Col(dbc.Button('Izquierda', id = 'izquierda', color = \"primary\", block = True)),\r\n",
    "        dbc.Col(dbc.Button('Centro', id = 'centro', color = \"primary\", block = True)),\r\n",
    "        dbc.Col(dbc.Button('Derecha', id = 'derecha', color = \"primary\", block = True))\r\n",
    "        ])\r\n",
    "], style = {'padding': '10px 50px 50px 50px'})\r\n",
    "\r\n",
    "# Cambiar de texto cuando se presione algún botón\r\n",
    "@app.callback(Output('texto_tweet', 'children'),\r\n",
    "              Output('Resultados', 'data'),\r\n",
    "              Input('izquierda', 'n_clicks'),\r\n",
    "              Input('centro', 'n_clicks'),\r\n",
    "              Input('derecha', 'n_clicks'),\r\n",
    "              Input('Resultados', 'data'))\r\n",
    "def cambiar_texto(izq, cen, der, resultados):\r\n",
    "    if (izq is None) & (cen is None) & (der is None):\r\n",
    "        fila = random.randint(0, tweets.shape[0])\r\n",
    "        tweet = tweets.iloc[fila].Text\r\n",
    "        resultados = pd.DataFrame()\r\n",
    "        return(tweet, resultados.to_json(orient = 'split'))\r\n",
    "    \r\n",
    "    changed_id = [p['prop_id'] for p in dash.callback_context.triggered][0]\r\n",
    "    if 'izquierda' in changed_id:\r\n",
    "        valor = -1\r\n",
    "    elif 'centro' in changed_id:\r\n",
    "        valor = 0\r\n",
    "    elif 'derecha' in changed_id:\r\n",
    "        valor = 1\r\n",
    "\r\n",
    "    fila = random.randint(0, tweets.shape[0])\r\n",
    "    tweet = tweets.iloc[fila].Text\r\n",
    "\r\n",
    "    if resultados is None:\r\n",
    "        resultados = pd.DataFrame()\r\n",
    "    else:\r\n",
    "        resultados = pd.read_json(resultados, orient = 'split')\r\n",
    "\r\n",
    "    resultado = pd.DataFrame({\r\n",
    "        \"usuario\": \"admin\", \r\n",
    "        \"id_tweet\": tweets.iloc[fila].ID,\r\n",
    "        \"marca\": valor,\r\n",
    "        \"hora\": datetime.now()\r\n",
    "        }, index = [0])\r\n",
    "\r\n",
    "    resultados = pd.concat([resultados, resultado], axis = 0).reset_index(drop = True)\r\n",
    "\r\n",
    "    return(tweet, resultados.to_json(orient = 'split'))\r\n",
    "\r\n",
    "app.layout = html.Div(children = [navbar, texto, botones, dcc.Store(id = 'Resultados')])\r\n",
    "\r\n",
    "if __name__ == \"__main__\":\r\n",
    "    app.run_server()\r\n",
    "\r\n",
    "app.layout = html.Div(children = [navbar, texto, botones, dcc.Store(id = 'Resultados')])\r\n",
    "\r\n",
    "if __name__ == \"__main__\":\r\n",
    "    app.run_server(debug = True)"
   ],
   "outputs": [
    {
     "output_type": "stream",
     "name": "stdout",
     "text": [
      "Dash is running on http://127.0.0.1:8050/\n",
      "\n",
      "Dash is running on http://127.0.0.1:8050/\n",
      "\n",
      " * Serving Flask app '__main__' (lazy loading)\n",
      " * Environment: production\n",
      "\u001b[31m   WARNING: This is a development server. Do not use it in a production deployment.\u001b[0m\n",
      "\u001b[2m   Use a production WSGI server instead.\u001b[0m\n",
      " * Debug mode: off\n",
      "Dash is running on http://127.0.0.1:8050/\n",
      "\n",
      "Dash is running on http://127.0.0.1:8050/\n",
      "\n",
      " * Serving Flask app '__main__' (lazy loading)\n",
      " * Environment: production\n",
      "\u001b[31m   WARNING: This is a development server. Do not use it in a production deployment.\u001b[0m\n",
      "\u001b[2m   Use a production WSGI server instead.\u001b[0m\n",
      " * Debug mode: on\n"
     ]
    },
    {
     "output_type": "error",
     "ename": "SystemExit",
     "evalue": "1",
     "traceback": [
      "An exception has occurred, use %tb to see the full traceback.\n",
      "\u001b[1;31mSystemExit\u001b[0m\u001b[1;31m:\u001b[0m 1\n"
     ]
    },
    {
     "output_type": "stream",
     "name": "stderr",
     "text": [
      "C:\\Users\\User\\AppData\\Roaming\\Python\\Python39\\site-packages\\IPython\\core\\interactiveshell.py:3426: UserWarning:\n",
      "\n",
      "To exit: use 'exit', 'quit', or Ctrl-D.\n",
      "\n"
     ]
    }
   ],
   "metadata": {}
  }
 ],
 "metadata": {
  "orig_nbformat": 4,
  "language_info": {
   "name": "python",
   "version": "3.9.7",
   "mimetype": "text/x-python",
   "codemirror_mode": {
    "name": "ipython",
    "version": 3
   },
   "pygments_lexer": "ipython3",
   "nbconvert_exporter": "python",
   "file_extension": ".py"
  },
  "kernelspec": {
   "name": "python3",
   "display_name": "Python 3.9.7 64-bit ('semillero_redes': conda)"
  },
  "interpreter": {
   "hash": "af52dcf216f2cb390e503a7fd61218ee38e9f2a9bb96ee8673f5cf7b8361856b"
  }
 },
 "nbformat": 4,
 "nbformat_minor": 2
}